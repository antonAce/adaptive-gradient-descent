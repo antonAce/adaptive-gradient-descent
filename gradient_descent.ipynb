{
  "nbformat": 4,
  "nbformat_minor": 0,
  "metadata": {
    "kernelspec": {
      "display_name": "Python 3",
      "language": "python",
      "name": "python3"
    },
    "language_info": {
      "codemirror_mode": {
        "name": "ipython",
        "version": 3
      },
      "file_extension": ".py",
      "mimetype": "text/x-python",
      "name": "python",
      "nbconvert_exporter": "python",
      "pygments_lexer": "ipython3",
      "version": "3.8.5"
    },
    "colab": {
      "name": "gradient_descent.ipynb",
      "provenance": [],
      "collapsed_sections": []
    }
  },
  "cells": [
    {
      "cell_type": "markdown",
      "metadata": {
        "id": "IIttKz-mrKtQ"
      },
      "source": [
        "# Adaptive Stochastic Gradient Descent\n",
        "\n",
        "Implementation and comparison of adaptive stochastic gradient descent methods using Python programming language. The efficiency comparison is demonstrated in the logistic regression optimization problem."
      ]
    },
    {
      "cell_type": "markdown",
      "metadata": {
        "id": "C2BS-jAgrKtU"
      },
      "source": [
        "## Introduction\n",
        "\n",
        "**Gradient descent** is one of the most popular numerical methods for solving modern optimization problems: from cost reduction to neural networks training. The thing that all these problems have in common is an aim to describe it as a mathematical model (e.g. mathematical equation) $J(\\theta_{i})$, which has a set of independent parameters $\\theta_{i}$, and then find specific values of $\\theta_{i}$ so $J(\\theta_{i})$ will reach the minimum possible value. As an example, in neural network training $J(\\theta_{i})$ can be described as a loss between the expected training example and the actual one, where $\\theta_{i}$ will be the **weight coefficients** of the neural network. So the goal of the training process is to find the optimal value of **weight coefficients**, so the loss will become minimum and the output value of a neural network will become as close to expected as possible.\n",
        "\n",
        "By definition, the **gradient** is a vector that points towards the highest  increase of the function value $F$ in high dimensional space $R^{n}$, that can be interpreted as a vector of partial derivatives with respect to each parameter $x_{1}, ..., x_{n}$ of the function $F$ in the specific point $a$:\n",
        "\n",
        "$\\nabla F(a) = \\begin{bmatrix}\n",
        "\\frac{\\partial f}{\\partial x_{1}} (a) \\\\\n",
        "\\vdots \\\\\n",
        "\\frac{\\partial f}{\\partial x_{n}} (a) \\\\\n",
        "\\end{bmatrix}$\n",
        "\n",
        "Various optimization algorithms, which are based on **gradient descent**, have common feature: usage of a vector, opposite to the gradient value (antigradient or $- \\nabla F$), as the key direction to the function minimum."
      ]
    },
    {
      "cell_type": "markdown",
      "metadata": {
        "id": "1WUIVxN9nnRR"
      },
      "source": [
        "### Overviewed algorithms\n",
        "\n",
        "- SGD\n",
        "- Dynamic Sampling SGD\n",
        "- Mini-batch SGD\n",
        "- Nesterov AG\n",
        "- ADAGRAD\n",
        "- RMSPROP\n",
        "- ADAM"
      ]
    },
    {
      "cell_type": "markdown",
      "metadata": {
        "id": "slca3rLNdWMr"
      },
      "source": [
        "### Tensorflow API usage\n",
        "\n",
        "**Gradient values** calculation will be speeded up for overviewed methods using [computation graphs](https://www.tensorflow.org/api_docs/python/tf/Graph) from [TensorFlow framework API](https://github.com/tensorflow/tensorflow)."
      ]
    },
    {
      "cell_type": "code",
      "metadata": {
        "id": "-JoWaBwchRem"
      },
      "source": [
        "import tensorflow as tf"
      ],
      "execution_count": 1,
      "outputs": []
    },
    {
      "cell_type": "markdown",
      "metadata": {
        "id": "W2LhrVMwhfsZ"
      },
      "source": [
        "Tensorflow framework provides class [tf.GradientTape()](https://www.tensorflow.org/api_docs/python/tf/GradientTape) with a set of methods for required computations: [gradient()](https://www.tensorflow.org/api_docs/python/tf/GradientTape#gradient) and [jacobian()](https://www.tensorflow.org/api_docs/python/tf/GradientTape#jacobian). The following section contains examples of gradient computations:"
      ]
    },
    {
      "cell_type": "code",
      "metadata": {
        "id": "COfQP4_KjA_x",
        "outputId": "c5c67421-e96b-4a89-aad3-c9a33f853239",
        "colab": {
          "base_uri": "https://localhost:8080/"
        }
      },
      "source": [
        "# Defining the scope of gradient computation. Here all defined variables\n",
        "# will be registered in Tensorflow calculation graph.\n",
        "with tf.GradientTape(persistent=True) as grad:\n",
        "  x, y = (tf.Variable(2.0), tf.Variable(-1.0))\n",
        "\n",
        "  # Single variable equation\n",
        "  f = x ** 3 + 2 * x ** 2 + 12 * x + 100\n",
        "\n",
        "  # Multiple variable equation\n",
        "  F = x ** 2 + x * y + y ** 2\n",
        "\n",
        "# f'(x) = 3 * x ** 2 + 4 * x + 12, f'(2.0) = 32.0\n",
        "df = grad.gradient(f, x)\n",
        "\n",
        "# dFdx = 2 * x + y, dFdx(2.0, -1.0) = 3.0\n",
        "# dFdy = x + 2 * y, dFdy(2.0, -1.0) = 0.0\n",
        "[dFdx, dFdy] = grad.gradient(F, [x, y])\n",
        "\n",
        "# Release graph allocated memory\n",
        "del grad\n",
        "\n",
        "print(f'Single variable equation:\\nf\\'(2.0) = {df};\\n')\n",
        "print(f'Multiple variable equation:\\ndFdx(2.0, -1.0) = {dFdx};\\ndFdy(2.0, -1.0) = {dFdy};')"
      ],
      "execution_count": 2,
      "outputs": [
        {
          "output_type": "stream",
          "text": [
            "Single variable equation:\n",
            "f'(2.0) = 32.0;\n",
            "\n",
            "Multiple variable equation:\n",
            "dFdx(2.0, -1.0) = 3.0;\n",
            "dFdy(2.0, -1.0) = 0.0;\n"
          ],
          "name": "stdout"
        }
      ]
    },
    {
      "cell_type": "markdown",
      "metadata": {
        "id": "Co80AuAYRkr1"
      },
      "source": [
        "### Tensor operations\n",
        "\n",
        "All tensor-like structure wrappers and operation methods for them are used from [Numpy](https://github.com/numpy/numpy) package."
      ]
    },
    {
      "cell_type": "code",
      "metadata": {
        "id": "oOJFSXKHRs_g"
      },
      "source": [
        "import numpy as np"
      ],
      "execution_count": 3,
      "outputs": []
    },
    {
      "cell_type": "markdown",
      "metadata": {
        "id": "4_bcT9ZEt8qA"
      },
      "source": [
        "### Optimization problem\n",
        "\n",
        "[Logistic regression](https://en.wikipedia.org/wiki/Logistic_regression) is chosen as an example of an optimization problem for comparing the convergence rate of the **gradient descent** algorithms. This mathematical model can be described as a binary classifier, which outputs a probability value of a certain set of features $x_{i}$ to belong to a certain class (e. g. **true** or **false**). Using the definition of optimization problem from above, the classifier can be represented in the form of two components: **an adder** that combines all the characteristics into a single one: $z = \\sum_{i=1}^{n} \\theta_{i} x_{i}$, and **a converter** that calculates the probability of the characteristics belonging to a certain class based on the output value of **an adder**: $g(z) = \\frac{1}{1 + e^{z}}$."
      ]
    },
    {
      "cell_type": "markdown",
      "metadata": {
        "id": "pmpSqbXtTZvY"
      },
      "source": [
        "### Algorithm convergence visualisation\n",
        "\n",
        "Iterations of the each **gradient descent** algorithm can be plotted as the path on 3D surface, in case model has only 2 independent parameters $\\{ \\theta_{1}, \\theta_{2} \\}$ so they can represent $X$ and $Y$ axises, and remaining $Z$ axis represents value of estimation equation to optimize $J(\\theta_{1}, \\theta_{2})$. All visualisation tools are used from [matplotlib](https://github.com/matplotlib/matplotlib) package."
      ]
    },
    {
      "cell_type": "code",
      "metadata": {
        "id": "ow88b6ykaCXq"
      },
      "source": [
        "import matplotlib.pyplot as plt\n",
        "import matplotlib.cm as colormaps"
      ],
      "execution_count": 4,
      "outputs": []
    },
    {
      "cell_type": "markdown",
      "metadata": {
        "id": "Hxi4Z5tF7C0c"
      },
      "source": [
        "## SGD\n",
        "\n",
        "The following code demonstrates class usage in the optimization problem for the **Rosenbrock function**:\n",
        "\n",
        "$F(x, y) = (1 - x)^{2} + 100(y - x^{2})^{2}$\n",
        "\n",
        "Function has a single local minimum in $(x, y) = (1, 1)$ and is equal $F(x, y) = 0$ in the following point.\n",
        "\n",
        "The gradient value, by definition, is a vector that points towards the direction of the greatest increase of the function. In order to reach a local minimum using an iterative algorithm, the next step should be in the direction opposite to the gradient value. So the full algorithm of finding local minimum can be described as $x_{i+1} = x_{i} - \\lambda_{i}\\nabla F$, where $\\lambda_{i} = const$ - size of a single step, $x_{i}$ - current step."
      ]
    },
    {
      "cell_type": "code",
      "metadata": {
        "id": "1vUIAbHGDosX",
        "outputId": "0228b78a-e3d1-4487-e7aa-960080d853ab",
        "colab": {
          "base_uri": "https://localhost:8080/"
        }
      },
      "source": [
        "# Single iteration of an algorithm\n",
        "def gradient_step(alpha: tf.constant, x: tf.Variable, y: tf.Variable) -> tf.Variable:\n",
        "  with tf.GradientTape() as grad:\n",
        "    grad.watch((alpha, x, y))\n",
        "\n",
        "    # Optimization function\n",
        "    F = (1.0 - x) ** 2.0 + 100.0 * (y - x ** 2.0) ** 2.0\n",
        "    [dF_dx, dF_dy] = grad.gradient(F, [x, y])\n",
        "\n",
        "  return x - alpha * tf.Variable(dF_dx), y - alpha * tf.Variable(dF_dy)\n",
        "\n",
        "# Gradient steps\n",
        "steps = 1000\n",
        "\n",
        "# Gradient step size\n",
        "alpha = tf.constant(0.001)\n",
        "\n",
        "# Start conditions\n",
        "x = tf.Variable(2.0)\n",
        "y = tf.Variable(-1.0)\n",
        "\n",
        "# Iterations\n",
        "xi = []; yi = []\n",
        "\n",
        "for _ in range(steps):\n",
        "  # Iterative descent\n",
        "  x, y = gradient_step(alpha, x, y)\n",
        "  xi.append(x.numpy()); yi.append(y.numpy())\n",
        "\n",
        "print(f\"Closest approximation of the local minimum: [{xi[-1]}, {yi[-1]}]\")"
      ],
      "execution_count": 5,
      "outputs": [
        {
          "output_type": "stream",
          "text": [
            "Closest approximation of the local minimum: [0.9669684171676636, 0.9348930716514587]\n"
          ],
          "name": "stdout"
        }
      ]
    },
    {
      "cell_type": "markdown",
      "metadata": {
        "id": "ZqNWt_OuIZYo"
      },
      "source": [
        "Using [matplotlib](https://matplotlib.org/) library, all recorded steps $\\{ x_{1}, x_{n} \\}$ can be visualised in a following 3D plot."
      ]
    },
    {
      "cell_type": "code",
      "metadata": {
        "id": "0QtsEtnMPQKx"
      },
      "source": [
        "import matplotlib.pyplot as plt\n",
        "from matplotlib.cm import coolwarm as cmap\n",
        "from numpy import arange, meshgrid, array\n",
        "from ipywidgets import interact, IntSlider"
      ],
      "execution_count": 6,
      "outputs": []
    },
    {
      "cell_type": "markdown",
      "metadata": {
        "id": "Zot5L5JYPsoZ"
      },
      "source": [
        "Visualisation intervals and rendering density"
      ]
    },
    {
      "cell_type": "code",
      "metadata": {
        "id": "DRN-l53dQYOY"
      },
      "source": [
        "density = 0.1\n",
        "\n",
        "X = arange(-2.0, 2.0, density)\n",
        "Y = arange(-1.0, 3.0, density)\n",
        "\n",
        "X, Y = meshgrid(X, Y)"
      ],
      "execution_count": 7,
      "outputs": []
    },
    {
      "cell_type": "markdown",
      "metadata": {
        "id": "56X8X1STQ9me"
      },
      "source": [
        "**Rosenbrock function** in vector form:"
      ]
    },
    {
      "cell_type": "code",
      "metadata": {
        "id": "SHBj069xRA7C"
      },
      "source": [
        "F = lambda x, y: (1.0 - x) ** 2.0 + 100.0 * (y - x ** 2.0) ** 2.0"
      ],
      "execution_count": 8,
      "outputs": []
    },
    {
      "cell_type": "markdown",
      "metadata": {
        "id": "s4VjiX-7Tpvk"
      },
      "source": [
        "Descent visualisation for space $(x, y) \\in \\{ -2 \\leq x \\leq 2; -1 \\leq y \\leq 3 \\}$"
      ]
    },
    {
      "cell_type": "code",
      "metadata": {
        "id": "nSVseTsxJN1K",
        "outputId": "a7f60d86-c62c-4e10-9418-c4efffee8d58",
        "colab": {
          "base_uri": "https://localhost:8080/",
          "height": 248
        }
      },
      "source": [
        "# Descent steps plotting\n",
        "xs = array(xi).flatten()\n",
        "ys = array(yi).flatten()\n",
        "\n",
        "fs = F(xs, ys).flatten()\n",
        "\n",
        "# Meshgrid plotting\n",
        "fig = plt.figure()\n",
        "ax = fig.gca(projection='3d')\n",
        "ax.view_init(elev=30, azim=50)\n",
        "\n",
        "ax.plot(xs, ys, fs, lw=0.5, marker='*', color='black')\n",
        "surf = ax.plot_surface(X, Y, F(X, Y), cmap=cmap, antialiased=True)\n",
        "fig.colorbar(surf)\n",
        "\n",
        "plt.show()"
      ],
      "execution_count": 9,
      "outputs": [
        {
          "output_type": "display_data",
          "data": {
            "image/png": "[encoded data removed]",
            "text/plain": [
              "<Figure size 432x288 with 2 Axes>"
            ]
          },
          "metadata": {
            "tags": [],
            "needs_background": "light"
          }
        }
      ]
    },
    {
      "cell_type": "markdown",
      "metadata": {
        "id": "V5qvxjPtrKtl"
      },
      "source": [
        "## Attribution\n",
        "\n",
        "Overview is based on research paper \"An overview of gradient descent optimization algorithms\" from [arXiv.org](https://arxiv.org/pdf/1609.04747.pdf) by [Sebastian Ruder](mailto:ruder.sebastian@gmail.com) licensed under CC BY-NC-SA 4.0."
      ]
    }
  ]
}