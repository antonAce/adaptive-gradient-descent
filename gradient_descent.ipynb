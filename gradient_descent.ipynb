{
  "nbformat": 4,
  "nbformat_minor": 0,
  "metadata": {
    "kernelspec": {
      "display_name": "Python 3",
      "language": "python",
      "name": "python3"
    },
    "language_info": {
      "codemirror_mode": {
        "name": "ipython",
        "version": 3
      },
      "file_extension": ".py",
      "mimetype": "text/x-python",
      "name": "python",
      "nbconvert_exporter": "python",
      "pygments_lexer": "ipython3",
      "version": "3.8.5"
    },
    "colab": {
      "name": "gradient_descent.ipynb",
      "provenance": [],
      "collapsed_sections": []
    }
  },
  "cells": [
    {
      "cell_type": "markdown",
      "metadata": {
        "id": "IIttKz-mrKtQ"
      },
      "source": [
        "# Adaptive Stochastic Gradient Descent\n",
        "\n",
        "Implementation and comparison of adaptive stochastic gradient descent methods using Python programming language. The efficiency comparison is demonstrated in the logistic regression optimization problem."
      ]
    },
    {
      "cell_type": "markdown",
      "metadata": {
        "id": "C2BS-jAgrKtU"
      },
      "source": [
        "## Introduction\n",
        "\n",
        "**Gradient descent** is one of the most popular numerical methods for solving modern optimization problems: from cost reduction to neural networks training. The thing that all these problems have in common is an aim to describe it as a mathematical model (e.g. mathematical equation) $J(\\theta_{i})$, which has a set of independent parameters $\\theta_{i}$, and then find specific values of $\\theta_{i}$ so $J(\\theta_{i})$ will reach the minimum possible value. As an example, in neural network training $J(\\theta_{i})$ can be described as a loss between the expected training example and the actual one, where $\\theta_{i}$ will be the **weight coefficients** of the neural network. So the goal of the training process is to find the optimal value of **weight coefficients**, so the loss will become minimum and the output value of a neural network will become as close to expected as possible.\n",
        "\n",
        "By definition, the **gradient** is a vector that points towards the highest  increase of the function value $F$ in high dimensional space $R^{n}$, that can be interpreted as a vector of partial derivatives with respect to each parameter $x_{1}, ..., x_{n}$ of the function $F$ in the specific point $a$:\n",
        "\n",
        "$\\nabla F(a) = \\begin{bmatrix}\n",
        "\\frac{\\partial f}{\\partial x_{1}} (a) \\\\\n",
        "\\vdots \\\\\n",
        "\\frac{\\partial f}{\\partial x_{n}} (a) \\\\\n",
        "\\end{bmatrix}$\n",
        "\n",
        "Various optimization algorithms, which are based on **gradient descent**, have common feature: usage of a vector, opposite to the gradient value (antigradient or $- \\nabla F$), as the key direction to the function minimum."
      ]
    },
    {
      "cell_type": "markdown",
      "metadata": {
        "id": "1WUIVxN9nnRR"
      },
      "source": [
        "### Overviewed algorithms\n",
        "\n",
        "- SGD\n",
        "- Dynamic Sampling SGD\n",
        "- Mini-batch SGD\n",
        "- Nesterov AG\n",
        "- ADAGRAD\n",
        "- RMSPROP\n",
        "- ADAM"
      ]
    },
    {
      "cell_type": "markdown",
      "metadata": {
        "id": "slca3rLNdWMr"
      },
      "source": [
        "### Tensorflow API usage\n",
        "\n",
        "**Gradient values** calculation will be speeded up for overviewed methods using [computation graphs](https://www.tensorflow.org/api_docs/python/tf/Graph) from [TensorFlow framework API](https://github.com/tensorflow/tensorflow)."
      ]
    },
    {
      "cell_type": "code",
      "metadata": {
        "id": "-JoWaBwchRem"
      },
      "source": [
        "import tensorflow as tf"
      ],
      "execution_count": 1,
      "outputs": []
    },
    {
      "cell_type": "markdown",
      "metadata": {
        "id": "W2LhrVMwhfsZ"
      },
      "source": [
        "Tensorflow framework provides class [tf.GradientTape()](https://www.tensorflow.org/api_docs/python/tf/GradientTape) with a set of methods for required computations: [gradient()](https://www.tensorflow.org/api_docs/python/tf/GradientTape#gradient) and [jacobian()](https://www.tensorflow.org/api_docs/python/tf/GradientTape#jacobian). The following section contains examples of gradient computations:"
      ]
    },
    {
      "cell_type": "code",
      "metadata": {
        "id": "COfQP4_KjA_x",
        "colab": {
          "base_uri": "https://localhost:8080/"
        },
        "outputId": "4d77cce6-ff86-4120-fbdc-bc4bd7592fd2"
      },
      "source": [
        "# Defining the scope of gradient computation. Here all defined variables\n",
        "# will be registered in Tensorflow calculation graph.\n",
        "with tf.GradientTape(persistent=True) as grad:\n",
        "  x, y = (tf.Variable(2.0), tf.Variable(-1.0))\n",
        "\n",
        "  # Single variable equation\n",
        "  f = x ** 3 + 2 * x ** 2 + 12 * x + 100\n",
        "\n",
        "  # Multiple variable equation\n",
        "  F = x ** 2 + x * y + y ** 2\n",
        "\n",
        "# f'(x) = 3 * x ** 2 + 4 * x + 12, f'(2.0) = 32.0\n",
        "df = grad.gradient(f, x)\n",
        "\n",
        "# dFdx = 2 * x + y, dFdx(2.0, -1.0) = 3.0\n",
        "# dFdy = x + 2 * y, dFdy(2.0, -1.0) = 0.0\n",
        "[dFdx, dFdy] = grad.gradient(F, [x, y])\n",
        "\n",
        "# Release graph allocated memory\n",
        "del grad\n",
        "\n",
        "print(f'Single variable equation:\\nf\\'(2.0) = {df};\\n')\n",
        "print(f'Multiple variable equation:\\ndFdx(2.0, -1.0) = {dFdx};\\ndFdy(2.0, -1.0) = {dFdy};')"
      ],
      "execution_count": 2,
      "outputs": [
        {
          "output_type": "stream",
          "text": [
            "Single variable equation:\n",
            "f'(2.0) = 32.0;\n",
            "\n",
            "Multiple variable equation:\n",
            "dFdx(2.0, -1.0) = 3.0;\n",
            "dFdy(2.0, -1.0) = 0.0;\n"
          ],
          "name": "stdout"
        }
      ]
    },
    {
      "cell_type": "markdown",
      "metadata": {
        "id": "Co80AuAYRkr1"
      },
      "source": [
        "### Tensor operations\n",
        "\n",
        "All tensor-like structure wrappers and operation methods for them are used from [Numpy](https://github.com/numpy/numpy) package."
      ]
    },
    {
      "cell_type": "code",
      "metadata": {
        "id": "oOJFSXKHRs_g"
      },
      "source": [
        "import numpy as np"
      ],
      "execution_count": 3,
      "outputs": []
    },
    {
      "cell_type": "markdown",
      "metadata": {
        "id": "pmpSqbXtTZvY"
      },
      "source": [
        "### Algorithm convergence visualisation\n",
        "\n",
        "Iterations of the each **gradient descent** algorithm can be plotted as the path on 3D surface, in case model has only 2 independent parameters $\\{ \\theta_{1}, \\theta_{2} \\}$ so they can represent $X$ and $Y$ axises, and remaining $Z$ axis represents value of estimation equation to optimize $J(\\theta_{1}, \\theta_{2})$. All visualisation tools are used from [matplotlib](https://github.com/matplotlib/matplotlib) package."
      ]
    },
    {
      "cell_type": "code",
      "metadata": {
        "id": "ow88b6ykaCXq"
      },
      "source": [
        "import matplotlib.pyplot as plt\n",
        "import matplotlib.gridspec as grid\n",
        "import matplotlib.cm as colormaps"
      ],
      "execution_count": 4,
      "outputs": []
    },
    {
      "cell_type": "markdown",
      "metadata": {
        "id": "V1uHa2ImsASP"
      },
      "source": [
        "Useful plotting functions"
      ]
    },
    {
      "cell_type": "code",
      "metadata": {
        "id": "dTxudbAruJ8w"
      },
      "source": [
        "from typing import Callable\n",
        "\n",
        "\n",
        "def plot_grid(F: Callable[[np.array, np.array], np.array],\n",
        "              X: np.array, Y: np.array,\n",
        "              elev=30, azim=50, ax=None):\n",
        "  \"\"\"\n",
        "  Plots 3D surface grid for 2 independent\n",
        "  parameters and estimation equation\n",
        "  :param F: estimation equation\n",
        "  :param X: first independent parameter\n",
        "  :param Y: second independent parameter\n",
        "  :param elev: vertical rotation angle\n",
        "  :param azim: horizontal rotation angle\n",
        "  :param ax: predefined plotting axis\n",
        "  :return: generated plotting axis\n",
        "  \"\"\"\n",
        "\n",
        "  # Generating grid\n",
        "  x, y = np.meshgrid(X, Y)\n",
        "\n",
        "  # If grid plotting axis is not defined above,\n",
        "  # the new one will be created\n",
        "  if ax is None:\n",
        "    fig = plt.figure()\n",
        "    ax = fig.gca(projection='3d')\n",
        "    ax.view_init(elev=elev, azim=azim)\n",
        "\n",
        "  # Plotting grid\n",
        "  surf = ax.plot_surface(x, y, F(x, y), \n",
        "                         cmap=colormaps.coolwarm, \n",
        "                         antialiased=True)\n",
        "  fig.colorbar(surf)\n",
        "\n",
        "  # For axis reusability purposes\n",
        "  return ax"
      ],
      "execution_count": 5,
      "outputs": []
    },
    {
      "cell_type": "markdown",
      "metadata": {
        "id": "4_bcT9ZEt8qA"
      },
      "source": [
        "### Optimization problem\n",
        "\n",
        "**Logistic regression** is chosen as an example of an optimization problem for comparing the convergence rate of the **gradient descent** algorithms. This mathematical model can be described as a binary classifier, which outputs a probability value of a certain set of features $x_{i}$ to belong to a certain class (e. g. **true** or **false**). Using the definition of optimization problem from above, the classifier can be represented in the form of two components: **an adder** that combines all the characteristics into a single one: $z_{j} = \\sum_{i=1}^{n} \\theta_{i} x_{i, j}$ (or $z_{j} = \\theta^{T} \\cdot x$), and **a converter** that calculates the probability of the characteristics belonging to a certain class based on the output value of **an adder**: $g(a) = \\frac{1}{1 + e^{-a}}$."
      ]
    },
    {
      "cell_type": "code",
      "metadata": {
        "id": "jMa-FhBaGySL"
      },
      "source": [
        "# Adder component\n",
        "Z = lambda theta, x: tf.transpose(theta) @ x\n",
        "\n",
        "# Converter component\n",
        "G = lambda a: tf.reshape(1.0 / (1.0 + tf.exp(-a)), shape=())"
      ],
      "execution_count": 6,
      "outputs": []
    },
    {
      "cell_type": "markdown",
      "metadata": {
        "id": "oMHkGn5x-hFF"
      },
      "source": [
        "Classification test cases"
      ]
    },
    {
      "cell_type": "code",
      "metadata": {
        "id": "p5p_8pX9-jEE"
      },
      "source": [
        "# x = (0, 0), theta = (1, 1) => g = 0.5\n",
        "tf.assert_equal(G(Z(tf.constant([[1.0], [1.0]]),\n",
        "                    tf.constant([[0.0], [0.0]]))),\n",
        "                tf.constant(0.5))\n",
        "\n",
        "# x = (1, 0), theta = (1, 1) => g = 0.7310586\n",
        "tf.assert_equal(G(Z(tf.constant([[1.0], [1.0]]),\n",
        "                    tf.constant([[1.0], [0.0]]))),\n",
        "                tf.constant(0.7310586))\n",
        "\n",
        "# x = (0, -1), theta = (1, 1) => g = 0.26894143\n",
        "tf.assert_equal(G(Z(tf.constant([[1.0], [1.0]]),\n",
        "                    tf.constant([[0.0], [-1.0]]))),\n",
        "                tf.constant(0.26894143))\n",
        "\n",
        "# x = (0.5, -1), theta = (2, -1.5) => g = 0.9241418\n",
        "tf.assert_equal(G(Z(tf.constant([[2.0], [-1.5]]),\n",
        "                    tf.constant([[0.5], [-1.0]]))),\n",
        "                tf.constant(0.9241418))"
      ],
      "execution_count": 7,
      "outputs": []
    },
    {
      "cell_type": "markdown",
      "metadata": {
        "id": "SFNqrF8XZtiQ"
      },
      "source": [
        "The solution to the problem is to find optimal $\\theta_{i}$ so for input features $x_{i}$ the **loss** $J(\\theta_{i})$ between output value of classifier $\\hat{y_{j}} = g(z_{\\theta}(x_{i, j}))$ and expected value $y_{j}$ will be minimal.\n",
        "\n",
        "The set of classes, mentioned above, can be represented as $\\{ 0, 1 \\}$, e. g. if model output is $1$ - features belong to the class, and if $0$ - features do not belong to the class. In this case, the rule of the fitting regression model can be interpreted as follows: *if expected output is $y=1$, the loss should approach $0$ when model output approaches $1$ and grow to infinity when model output approaches $0$. For the case $y=0$ these conditions apply vise versa.*\n",
        "\n",
        "Model fitting rule or **loss function** can expressed as limits:\n",
        "\n",
        "$\\begin{cases}\n",
        "\\lim_{g(z_{\\theta}(x_{i, j})) \\to 1} J_{j}(\\theta_{i}) = 0 & \\& & \\lim_{g(z_{\\theta}(x_{i, j})) \\to 0} J_{j}(\\theta_{i}) = \\infty, & y=1 \\\\\n",
        "\\lim_{g(z_{\\theta}(x_{i, j})) \\to 0} J_{j}(\\theta_{i}) = 0 & \\& & \\lim_{g(z_{\\theta}(x_{i, j})) \\to 1} J_{j}(\\theta_{i}) = \\infty, & y=0\n",
        "\\end{cases}$\n",
        "\n",
        "Limitation conditions fit the $\\log(x)$ function, so the **loss function** can be expressed as the following system:\n",
        "\n",
        "$ J_{j}(g, y) = \\begin{cases}\n",
        "-\\log(g), & y = 1  \\\\\n",
        "-\\log(1 - g), & y = 0\n",
        "\\end{cases}$\n",
        "\n",
        "The statement can be joined into a single formula: $ J_{j}(g, y) = - y \\log(g) - (1 - y) \\log(1 - g) $ - this formula is appliable for single pair of features and output. For multiple pairs loss value can be calculated as the mean of losses for single pairs: $ J(g, y) = \\frac{1}{m} \\sum_{j=1}^{m} J_{j}(g, y) = \\frac{1}{m} \\sum_{j=1}^{m} ( - y \\log(g) - (1 - y) \\log(1 - g) ) = -\\frac{1}{m} \\sum_{j=1}^{m} (y \\log(g) + (1 - y) \\log(1 - g) )$"
      ]
    },
    {
      "cell_type": "code",
      "metadata": {
        "id": "UcOekGMr8o56"
      },
      "source": [
        "# Loss function\n",
        "J = lambda g, y: - y * tf.math.log(g) - (1 - y) * tf.math.log(1 - g)"
      ],
      "execution_count": 8,
      "outputs": []
    },
    {
      "cell_type": "markdown",
      "metadata": {
        "id": "ejkr5OfxqOpm"
      },
      "source": [
        "As the result, the derived fitting rule (**loss function**) is a convex function with only one minimum: **the global minimum**. This can be demonstraited on the following plots:"
      ]
    },
    {
      "cell_type": "code",
      "metadata": {
        "colab": {
          "base_uri": "https://localhost:8080/",
          "height": 279
        },
        "id": "c_lUWomLuX9N",
        "outputId": "dd875f89-633b-43b0-cc4a-9c022619492a"
      },
      "source": [
        "g = np.arange(0.001, 1.0, 0.001)\n",
        "\n",
        "JLeft = -np.log(g)\n",
        "JRight = -np.log(1 - g)\n",
        "\n",
        "plt.plot(g, JLeft, 'b-', label='Left conditions: y = 1')\n",
        "plt.plot(g, JRight, 'r-', label='Right conditions: y = 0')\n",
        "plt.xlabel('Classifier prediction')\n",
        "plt.ylabel('Loss function J')\n",
        "plt.grid(True)\n",
        "plt.legend(loc='upper center')\n",
        "\n",
        "plt.show()"
      ],
      "execution_count": 9,
      "outputs": [
        {
          "output_type": "display_data",
          "data": {
            "image/png": "[encoded data removed]",
            "text/plain": [
              "<Figure size 432x288 with 1 Axes>"
            ]
          },
          "metadata": {
            "tags": [],
            "needs_background": "light"
          }
        }
      ]
    },
    {
      "cell_type": "markdown",
      "metadata": {
        "id": "IG4XOQyi8deM"
      },
      "source": [
        "The **loss** function is formed from combined limit conditions, which is plotted as a diagonal cross-section of the grid below:"
      ]
    },
    {
      "cell_type": "code",
      "metadata": {
        "colab": {
          "base_uri": "https://localhost:8080/",
          "height": 249
        },
        "id": "oLlkCKP58pcH",
        "outputId": "6af19b49-fd8b-4529-83a0-4ba44b9e34b1"
      },
      "source": [
        "y = np.arange(0.001, 1.0, 0.001)\n",
        "\n",
        "# Arguments for output equals 0\n",
        "yleft = np.zeros(y.shape[0])\n",
        "\n",
        "# Arguments for output equals 1\n",
        "yright = np.ones(y.shape[0])\n",
        "\n",
        "# Loss function\n",
        "j = lambda G, Y: - Y * np.log(G) - (1 - Y) * np.log(1 - G)\n",
        "\n",
        "# Loss function plot in 3D cross-section\n",
        "ax = plot_grid(j, g, y, elev=50, azim=70)\n",
        "\n",
        "# Loss function plot for output equals 0\n",
        "ax.plot(g, yleft, j(g, yleft),\n",
        "        lw=5, color='cyan', label=\"loss for y=0\")\n",
        "\n",
        "# Loss function plot for output equals 1\n",
        "ax.plot(g, yright, j(g, yright),\n",
        "        lw=5, color='orange', label=\"loss for y=1\")\n",
        "\n",
        "plt.legend()\n",
        "plt.show()"
      ],
      "execution_count": 10,
      "outputs": [
        {
          "output_type": "display_data",
          "data": {
            "image/png": "[encoded data removed]",
            "text/plain": [
              "<Figure size 432x288 with 2 Axes>"
            ]
          },
          "metadata": {
            "tags": [],
            "needs_background": "light"
          }
        }
      ]
    },
    {
      "cell_type": "markdown",
      "metadata": {
        "id": "QrcV2vLPFCQP"
      },
      "source": [
        "Loss calculation test cases"
      ]
    },
    {
      "cell_type": "code",
      "metadata": {
        "id": "K9GMdbLYFDmS"
      },
      "source": [
        "np.testing.assert_almost_equal(\n",
        "    J(tf.constant(0.0001), tf.constant(0.0)).numpy(),\n",
        "    0.00010002)\n",
        "\n",
        "np.testing.assert_almost_equal(\n",
        "    J(tf.constant(0.9998), tf.constant(1.0)).numpy(),\n",
        "    0.00019999)\n",
        "\n",
        "np.testing.assert_almost_equal(\n",
        "    J(tf.constant(0.8), tf.constant(0.0)).numpy(),\n",
        "    1.609438)\n",
        "\n",
        "np.testing.assert_almost_equal(\n",
        "    J(tf.constant(0.2), tf.constant(1.0)).numpy(),\n",
        "    1.609438)"
      ],
      "execution_count": 11,
      "outputs": []
    },
    {
      "cell_type": "markdown",
      "metadata": {
        "id": "UjQZ0eM49Qka"
      },
      "source": [
        "### Training dataset\n",
        "\n",
        "Necessary requirements for a set of training examples are:\n",
        "- Expected outputs should belong only to binary classes, e. g. $\\hat{y_{j}} \\in \\{ 0, 1 \\}$;\n",
        "- Input features should be defined as rational values $ \\{ x_{ij} | x_{ij} \\in R \\} $;\n",
        "\n",
        "For simplicity, a set of a training examples will be generated as feed-forward of regression model $g(z_{\\theta}(\\hat{\\theta_{i}}, x_{i, j}))$, where $ \\hat{\\theta_{i}} $ - predefined parameters, with applied **normaly distributed** random noise $\\varepsilon \\simeq N(0, 0.1)$"
      ]
    },
    {
      "cell_type": "code",
      "metadata": {
        "id": "NJJUCLprbnJx"
      },
      "source": [
        "# To generate same random numbers per each run.\n",
        "# Random seed definition is required for testing\n",
        "# purposes, it can be commented out in experimental\n",
        "# mode.\n",
        "np.random.seed(0)\n",
        "\n",
        "# Mean, variance and count of training exmaples\n",
        "mu, sigma, n = 0, 0.1, 1000\n",
        "\n",
        "# Random noise\n",
        "e = np.random.normal(mu, sigma, n)\n",
        "\n",
        "# Predefined parameters\n",
        "theta = np.array([4.0, 2.0])\n",
        "\n",
        "# Input features\n",
        "x = np.vstack((e, e))\n",
        "\n",
        "# Output labels\n",
        "y_ = 1.0 / (1.0 + np.exp(-(theta.T @ x)))\n",
        "\n",
        "# Expected output labels\n",
        "y = np.rint(y_)"
      ],
      "execution_count": 12,
      "outputs": []
    },
    {
      "cell_type": "markdown",
      "metadata": {
        "id": "Hxi4Z5tF7C0c"
      },
      "source": [
        "## Gradient descent variations\n",
        "\n",
        "**Gradient descent** algorithms have a common feature: using calculated gradient value as a direction towards the minimum of the function. The **gradient** value, by definition, is a **vector** that points towards the direction of **the greatest increase of the function** in a specific point. So the value, opposite to the gradient value or $ - \\nabla_{\\theta} J $, points towards the minimum.\n",
        "\n",
        "In general, **gradient descent** algorithm can be expressed as an iterative algorithm, that on each step $ \\theta_{j}^{(i)} $ moves in direction of $ - \\nabla_{\\theta} J $ with a fixed size step $ \\lambda $ (also known as learning rate) untill it reaches the minimum: $\\theta_{j}^{(i+1)} = \\theta_{j}^{(i)} - \\lambda \\nabla_{\\theta} J$.\n",
        "\n",
        "Depending on how much data is used to compute the gradient of objective function, general form of an algorithm can variate, which leads to the possibility for a trade-off between the accuracy of the parameter update and the time it takes to perform an update."
      ]
    },
    {
      "cell_type": "markdown",
      "metadata": {
        "id": "FwBBgw1sdoG1"
      },
      "source": [
        "### Batch gradient descent\n",
        "\n",
        "**Batch gradient descent** or **vanilla gradient descent** performs computation of the gradient for $ \\nabla_{\\theta} J $ with respect to the independent variables $ \\theta_{j} $ for the entire set of training examples: $\\theta^{(i+1)} = \\theta^{(i)} - \\lambda \\nabla_{\\theta} J(\\theta, x, y)$\n",
        "\n",
        "Although **batch gradient descent** is guaranteed to converge to the global\n",
        "minimum for convex noisy surfaces, it requires to calculate gradient value for the entire set training examples, which makes it unefficient to calculate in parallel and, as the result, makes it **very slow**, because it **can not update** model parameters **\"on-the-fly\"**. Another issue with this algorithm is an eager usage of memory, which means loading every training example into memory.\n",
        "\n",
        "**Vanilla GD** performs redundant computations for large datasets, as it recomputes gradients for similar examples before each parameter update, so its usage is efficient on a relatively small datasets."
      ]
    },
    {
      "cell_type": "markdown",
      "metadata": {
        "id": "wuowKCivdzY8"
      },
      "source": [
        "### Stochastic gradient descent\n",
        "\n",
        "Unlike algorithm from above, **stochastic gradient descent** (SGD) calculates gradient and performs parameters update **for a single training example** at once $( x_{i1}, ..., x_{in}, y_{i} ) $, where $ x_{i1}, ..., x_{in} $ are input features of a training example and $ y_{i} $ - label a training example: $\\theta^{(i+1)} = \\theta^{(i)} - \\lambda \\nabla_{\\theta} J(\\theta_{1}^{(i)}, ..., \\theta_{n}^{(i)}, x_{1}^{(i)}, ..., x_{n}^{(i)}, y^{(i)})$\n",
        "\n",
        "SGD removes redundancy for recomputing gradients for similar examples before each parameter update and also provides a possibility for a parallel computation of the gradient value for each example, which leads to updating model parameters **\"on-the-fly\"** (which lead to the faster computation).\n",
        "\n",
        "Nevertheless, this approach has its own flaw: **frequent updates** with a high variance that cause the objective function to **fluctuate heavily**. On the one hand, SGD’s fluctuation enables it to jump to a new and potentially better (global) minimum in a process of descending to the other local minimum. But on the other hand, this ultimately complicates convergence to the exact minimum, as SGD will keep overshooting. In practice, this flaw can be solved using **learning rate decay methods** (e. g. rate decreasing over epoch/iteration), though it requires precise parameter tuning."
      ]
    },
    {
      "cell_type": "markdown",
      "metadata": {
        "id": "V5qvxjPtrKtl"
      },
      "source": [
        "## Attribution\n",
        "\n",
        "Overview is based on research paper \"An overview of gradient descent optimization algorithms\" from [arXiv.org](https://arxiv.org/pdf/1609.04747.pdf) by [Sebastian Ruder](mailto:ruder.sebastian@gmail.com) licensed under CC BY-NC-SA 4.0."
      ]
    }
  ]
}