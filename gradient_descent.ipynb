{
  "nbformat": 4,
  "nbformat_minor": 0,
  "metadata": {
    "kernelspec": {
      "display_name": "Python 3",
      "language": "python",
      "name": "python3"
    },
    "language_info": {
      "codemirror_mode": {
        "name": "ipython",
        "version": 3
      },
      "file_extension": ".py",
      "mimetype": "text/x-python",
      "name": "python",
      "nbconvert_exporter": "python",
      "pygments_lexer": "ipython3",
      "version": "3.8.5"
    },
    "colab": {
      "name": "gradient_descent.ipynb",
      "provenance": [],
      "collapsed_sections": []
    },
    "widgets": {
      "application/vnd.jupyter.widget-state+json": {
        "a822c62378f54c929f974c1751912434": {
          "model_module": "@jupyter-widgets/controls",
          "model_name": "VBoxModel",
          "state": {
            "_view_name": "VBoxView",
            "_dom_classes": [
              "widget-interact"
            ],
            "_model_name": "VBoxModel",
            "_view_module": "@jupyter-widgets/controls",
            "_model_module_version": "1.5.0",
            "_view_count": null,
            "_view_module_version": "1.5.0",
            "box_style": "",
            "layout": "IPY_MODEL_0e3dedadab984f4ea99fa68ff950cc07",
            "_model_module": "@jupyter-widgets/controls",
            "children": [
              "IPY_MODEL_fe022f37dc5041aea864a13d19d58891",
              "IPY_MODEL_414c034f0bcc4532bc3e12357c600cce",
              "IPY_MODEL_4e95c2330e8743bc892778569b4b72de"
            ]
          }
        },
        "0e3dedadab984f4ea99fa68ff950cc07": {
          "model_module": "@jupyter-widgets/base",
          "model_name": "LayoutModel",
          "state": {
            "_view_name": "LayoutView",
            "grid_template_rows": null,
            "right": null,
            "justify_content": null,
            "_view_module": "@jupyter-widgets/base",
            "overflow": null,
            "_model_module_version": "1.2.0",
            "_view_count": null,
            "flex_flow": null,
            "width": null,
            "min_width": null,
            "border": null,
            "align_items": null,
            "bottom": null,
            "_model_module": "@jupyter-widgets/base",
            "top": null,
            "grid_column": null,
            "overflow_y": null,
            "overflow_x": null,
            "grid_auto_flow": null,
            "grid_area": null,
            "grid_template_columns": null,
            "flex": null,
            "_model_name": "LayoutModel",
            "justify_items": null,
            "grid_row": null,
            "max_height": null,
            "align_content": null,
            "visibility": null,
            "align_self": null,
            "height": null,
            "min_height": null,
            "padding": null,
            "grid_auto_rows": null,
            "grid_gap": null,
            "max_width": null,
            "order": null,
            "_view_module_version": "1.2.0",
            "grid_template_areas": null,
            "object_position": null,
            "object_fit": null,
            "grid_auto_columns": null,
            "margin": null,
            "display": null,
            "left": null
          }
        },
        "fe022f37dc5041aea864a13d19d58891": {
          "model_module": "@jupyter-widgets/controls",
          "model_name": "IntSliderModel",
          "state": {
            "_view_name": "IntSliderView",
            "style": "IPY_MODEL_a7f4365773eb4d07a22252d7f0e7e20c",
            "_dom_classes": [],
            "description": "elev",
            "step": 1,
            "_model_name": "IntSliderModel",
            "orientation": "horizontal",
            "max": 360,
            "_view_module": "@jupyter-widgets/controls",
            "_model_module_version": "1.5.0",
            "value": 30,
            "_view_count": null,
            "disabled": false,
            "_view_module_version": "1.5.0",
            "min": 0,
            "continuous_update": true,
            "readout_format": "d",
            "description_tooltip": null,
            "readout": true,
            "_model_module": "@jupyter-widgets/controls",
            "layout": "IPY_MODEL_cd28981e926046608bf51deabea45eb4"
          }
        },
        "414c034f0bcc4532bc3e12357c600cce": {
          "model_module": "@jupyter-widgets/controls",
          "model_name": "IntSliderModel",
          "state": {
            "_view_name": "IntSliderView",
            "style": "IPY_MODEL_3949771e7c08466e8c85639afbdbfb54",
            "_dom_classes": [],
            "description": "azim",
            "step": 1,
            "_model_name": "IntSliderModel",
            "orientation": "horizontal",
            "max": 360,
            "_view_module": "@jupyter-widgets/controls",
            "_model_module_version": "1.5.0",
            "value": 100,
            "_view_count": null,
            "disabled": false,
            "_view_module_version": "1.5.0",
            "min": 0,
            "continuous_update": true,
            "readout_format": "d",
            "description_tooltip": null,
            "readout": true,
            "_model_module": "@jupyter-widgets/controls",
            "layout": "IPY_MODEL_e55f69637b8c46119a4df3a7cb129899"
          }
        },
        "4e95c2330e8743bc892778569b4b72de": {
          "model_module": "@jupyter-widgets/output",
          "model_name": "OutputModel",
          "state": {
            "_view_name": "OutputView",
            "msg_id": "",
            "_dom_classes": [],
            "_model_name": "OutputModel",
            "outputs": [
              {
                "output_type": "display_data",
                "metadata": {
                  "tags": [],
                  "needs_background": "light"
                },
                "image/png": "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\n",
                "text/plain": "<Figure size 432x288 with 2 Axes>"
              }
            ],
            "_view_module": "@jupyter-widgets/output",
            "_model_module_version": "1.0.0",
            "_view_count": null,
            "_view_module_version": "1.0.0",
            "layout": "IPY_MODEL_4188a0b1969a4f808661d40367a7b945",
            "_model_module": "@jupyter-widgets/output"
          }
        },
        "a7f4365773eb4d07a22252d7f0e7e20c": {
          "model_module": "@jupyter-widgets/controls",
          "model_name": "SliderStyleModel",
          "state": {
            "_view_name": "StyleView",
            "handle_color": null,
            "_model_name": "SliderStyleModel",
            "description_width": "",
            "_view_module": "@jupyter-widgets/base",
            "_model_module_version": "1.5.0",
            "_view_count": null,
            "_view_module_version": "1.2.0",
            "_model_module": "@jupyter-widgets/controls"
          }
        },
        "cd28981e926046608bf51deabea45eb4": {
          "model_module": "@jupyter-widgets/base",
          "model_name": "LayoutModel",
          "state": {
            "_view_name": "LayoutView",
            "grid_template_rows": null,
            "right": null,
            "justify_content": null,
            "_view_module": "@jupyter-widgets/base",
            "overflow": null,
            "_model_module_version": "1.2.0",
            "_view_count": null,
            "flex_flow": null,
            "width": null,
            "min_width": null,
            "border": null,
            "align_items": null,
            "bottom": null,
            "_model_module": "@jupyter-widgets/base",
            "top": null,
            "grid_column": null,
            "overflow_y": null,
            "overflow_x": null,
            "grid_auto_flow": null,
            "grid_area": null,
            "grid_template_columns": null,
            "flex": null,
            "_model_name": "LayoutModel",
            "justify_items": null,
            "grid_row": null,
            "max_height": null,
            "align_content": null,
            "visibility": null,
            "align_self": null,
            "height": null,
            "min_height": null,
            "padding": null,
            "grid_auto_rows": null,
            "grid_gap": null,
            "max_width": null,
            "order": null,
            "_view_module_version": "1.2.0",
            "grid_template_areas": null,
            "object_position": null,
            "object_fit": null,
            "grid_auto_columns": null,
            "margin": null,
            "display": null,
            "left": null
          }
        },
        "3949771e7c08466e8c85639afbdbfb54": {
          "model_module": "@jupyter-widgets/controls",
          "model_name": "SliderStyleModel",
          "state": {
            "_view_name": "StyleView",
            "handle_color": null,
            "_model_name": "SliderStyleModel",
            "description_width": "",
            "_view_module": "@jupyter-widgets/base",
            "_model_module_version": "1.5.0",
            "_view_count": null,
            "_view_module_version": "1.2.0",
            "_model_module": "@jupyter-widgets/controls"
          }
        },
        "e55f69637b8c46119a4df3a7cb129899": {
          "model_module": "@jupyter-widgets/base",
          "model_name": "LayoutModel",
          "state": {
            "_view_name": "LayoutView",
            "grid_template_rows": null,
            "right": null,
            "justify_content": null,
            "_view_module": "@jupyter-widgets/base",
            "overflow": null,
            "_model_module_version": "1.2.0",
            "_view_count": null,
            "flex_flow": null,
            "width": null,
            "min_width": null,
            "border": null,
            "align_items": null,
            "bottom": null,
            "_model_module": "@jupyter-widgets/base",
            "top": null,
            "grid_column": null,
            "overflow_y": null,
            "overflow_x": null,
            "grid_auto_flow": null,
            "grid_area": null,
            "grid_template_columns": null,
            "flex": null,
            "_model_name": "LayoutModel",
            "justify_items": null,
            "grid_row": null,
            "max_height": null,
            "align_content": null,
            "visibility": null,
            "align_self": null,
            "height": null,
            "min_height": null,
            "padding": null,
            "grid_auto_rows": null,
            "grid_gap": null,
            "max_width": null,
            "order": null,
            "_view_module_version": "1.2.0",
            "grid_template_areas": null,
            "object_position": null,
            "object_fit": null,
            "grid_auto_columns": null,
            "margin": null,
            "display": null,
            "left": null
          }
        },
        "4188a0b1969a4f808661d40367a7b945": {
          "model_module": "@jupyter-widgets/base",
          "model_name": "LayoutModel",
          "state": {
            "_view_name": "LayoutView",
            "grid_template_rows": null,
            "right": null,
            "justify_content": null,
            "_view_module": "@jupyter-widgets/base",
            "overflow": null,
            "_model_module_version": "1.2.0",
            "_view_count": null,
            "flex_flow": null,
            "width": null,
            "min_width": null,
            "border": null,
            "align_items": null,
            "bottom": null,
            "_model_module": "@jupyter-widgets/base",
            "top": null,
            "grid_column": null,
            "overflow_y": null,
            "overflow_x": null,
            "grid_auto_flow": null,
            "grid_area": null,
            "grid_template_columns": null,
            "flex": null,
            "_model_name": "LayoutModel",
            "justify_items": null,
            "grid_row": null,
            "max_height": null,
            "align_content": null,
            "visibility": null,
            "align_self": null,
            "height": null,
            "min_height": null,
            "padding": null,
            "grid_auto_rows": null,
            "grid_gap": null,
            "max_width": null,
            "order": null,
            "_view_module_version": "1.2.0",
            "grid_template_areas": null,
            "object_position": null,
            "object_fit": null,
            "grid_auto_columns": null,
            "margin": null,
            "display": null,
            "left": null
          }
        }
      }
    }
  },
  "cells": [
    {
      "cell_type": "markdown",
      "metadata": {
        "id": "IIttKz-mrKtQ"
      },
      "source": [
        "# Adaptive Stochastic Gradient Descent\n",
        "\n",
        "Implementation and comparison of adaptive stochastic gradient descent methods using Python programming language. The efficiency comparison is demonstrated in the logistic regression optimization problem."
      ]
    },
    {
      "cell_type": "markdown",
      "metadata": {
        "id": "C2BS-jAgrKtU"
      },
      "source": [
        "## Introduction\n",
        "\n",
        "**Gradient descent** is one of the most popular numerical methods for solving modern optimization problems: from cost reduction to neural networks training. The thing that all these problems have in common is an aim to describe it as a mathematical model (e.g. mathematical equation) $J(\\theta_{i})$, which has a set of independent parameters $\\theta_{i}$, and then find specific values of $\\theta_{i}$ so $J(\\theta_{i})$ will reach the minimum possible value. As an example, in neural network training $J(\\theta_{i})$ can be described as a loss between the expected training example and the actual one, where $\\theta_{i}$ will be the **weight coefficients** of the neural network. So the goal of the training process is to find the optimal value of **weight coefficients**, so the loss will become minimum and the output value of a neural network will become as close to expected as possible.\n",
        "\n",
        "By definition, the **gradient** is a vector that points towards the highest  increase of the function value $F$ in high dimensional space $R^{n}$, that can be interpreted as a vector of partial derivatives with respect to each parameter $x_{1}, ..., x_{n}$ of the function $F$ in the specific point $a$:\n",
        "\n",
        "$\\nabla F(a) = \\begin{bmatrix}\n",
        "\\frac{\\partial f}{\\partial x_{1}} (a) \\\\\n",
        "\\vdots \\\\\n",
        "\\frac{\\partial f}{\\partial x_{n}} (a) \\\\\n",
        "\\end{bmatrix}$\n",
        "\n",
        "Various optimization algorithms, which are based on **gradient descent**, have common feature: usage of a vector, opposite to the gradient value (antigradient or $- \\nabla F$), as the key direction to the function minimum. In this research will be overviewed the following algorithms:\n",
        "- SGD\n",
        "- Nesterov AG\n",
        "- ADAGRAD\n",
        "- RMSPROP\n",
        "- ADAM\n",
        "- Dynamic Sampling SGD\n",
        "- Mini-batch SGD"
      ]
    },
    {
      "cell_type": "markdown",
      "metadata": {
        "id": "Hxi4Z5tF7C0c"
      },
      "source": [
        "## Tensorflow API usage\n",
        "\n",
        "In this overview, the following gradient algorithms will be implemented using TensorFlow API to speed up the process of gradient calculation in the neural language processing problem using [Calculation Graph](https://www.tensorflow.org/api_docs/python/tf/Graph). The gradient value for the following methods will be calculated using [tf.GradientTape()](https://www.tensorflow.org/api_docs/python/tf/GradientTape) in order to achieve higher performance and calculation parallelism. The following code demonstrates class usage in the optimization problem for the **Rosenbrock function**:\n",
        "\n",
        "$F(x, y) = (1 - x)^{2} + 100(y - x^{2})^{2}$\n",
        "\n",
        "Function has a single local minimum in $(x, y) = (1, 1)$ and is equal $F(x, y) = 0$ in the following point.\n",
        "\n",
        "The gradient value, by definition, is a vector that points towards the direction of the greatest increase of the function. In order to reach a local minimum using an iterative algorithm, the next step should be in the direction opposite to the gradient value. So the full algorithm of finding local minimum can be described as $x_{i+1} = x_{i} - \\lambda_{i}\\nabla F$, where $\\lambda_{i} = const$ - size of a single step, $x_{i}$ - current step."
      ]
    },
    {
      "cell_type": "code",
      "metadata": {
        "id": "8JJCbDYPWrD_"
      },
      "source": [
        "import tensorflow as tf"
      ],
      "execution_count": null,
      "outputs": []
    },
    {
      "cell_type": "code",
      "metadata": {
        "id": "1vUIAbHGDosX",
        "outputId": "eb9a422f-3f8c-469f-c932-950669c5cec0",
        "colab": {
          "base_uri": "https://localhost:8080/"
        }
      },
      "source": [
        "# Single iteration of an algorithm\n",
        "def gradient_step(alpha: tf.constant, x: tf.Variable, y: tf.Variable) -> tf.Variable:\n",
        "  with tf.GradientTape() as grad:\n",
        "    grad.watch((alpha, x, y))\n",
        "\n",
        "    # Optimization function\n",
        "    F = (1.0 - x) ** 2.0 + 100.0 * (y - x ** 2.0) ** 2.0\n",
        "    [dF_dx, dF_dy] = grad.gradient(F, [x, y])\n",
        "\n",
        "  return x - alpha * tf.Variable(dF_dx), y - alpha * tf.Variable(dF_dy)\n",
        "\n",
        "# Gradient steps\n",
        "steps = 1000\n",
        "\n",
        "# Gradient step size\n",
        "alpha = tf.constant(0.001)\n",
        "\n",
        "# Start conditions\n",
        "x = tf.Variable(2.0)\n",
        "y = tf.Variable(-1.0)\n",
        "\n",
        "# Iterations\n",
        "xi = []; yi = []\n",
        "\n",
        "for _ in range(steps):\n",
        "  # Iterative descent\n",
        "  x, y = gradient_step(alpha, x, y)\n",
        "  xi.append(x.numpy()); yi.append(y.numpy())\n",
        "\n",
        "print(f\"Closest approximation of the local minimum: [{xi[-1]}, {yi[-1]}]\")"
      ],
      "execution_count": null,
      "outputs": [
        {
          "output_type": "stream",
          "text": [
            "Closest approximation of the local minimum: [0.9669684171676636, 0.9348930716514587]\n"
          ],
          "name": "stdout"
        }
      ]
    },
    {
      "cell_type": "markdown",
      "metadata": {
        "id": "ZqNWt_OuIZYo"
      },
      "source": [
        "Using [matplotlib](https://matplotlib.org/) library, all recorded steps $\\{ x_{1}, x_{n} \\}$ can be visualised in a following 3D plot."
      ]
    },
    {
      "cell_type": "code",
      "metadata": {
        "id": "0QtsEtnMPQKx"
      },
      "source": [
        "import matplotlib.pyplot as plt\n",
        "from matplotlib.cm import coolwarm as cmap\n",
        "from numpy import arange, meshgrid, array\n",
        "from ipywidgets import interact, IntSlider"
      ],
      "execution_count": null,
      "outputs": []
    },
    {
      "cell_type": "markdown",
      "metadata": {
        "id": "Zot5L5JYPsoZ"
      },
      "source": [
        "Visualisation intervals and rendering density"
      ]
    },
    {
      "cell_type": "code",
      "metadata": {
        "id": "DRN-l53dQYOY"
      },
      "source": [
        "density = 0.1\n",
        "\n",
        "X = arange(-2.0, 2.0, density)\n",
        "Y = arange(-1.0, 3.0, density)\n",
        "\n",
        "X, Y = meshgrid(X, Y)"
      ],
      "execution_count": null,
      "outputs": []
    },
    {
      "cell_type": "markdown",
      "metadata": {
        "id": "56X8X1STQ9me"
      },
      "source": [
        "**Rosenbrock function** in vector form:"
      ]
    },
    {
      "cell_type": "code",
      "metadata": {
        "id": "SHBj069xRA7C"
      },
      "source": [
        "F = lambda x, y: (1.0 - x) ** 2.0 + 100.0 * (y - x ** 2.0) ** 2.0"
      ],
      "execution_count": null,
      "outputs": []
    },
    {
      "cell_type": "markdown",
      "metadata": {
        "id": "s4VjiX-7Tpvk"
      },
      "source": [
        "Descent visualisation for space $(x, y) \\in \\{ -2 \\leq x \\leq 2; -1 \\leq y \\leq 3 \\}$"
      ]
    },
    {
      "cell_type": "code",
      "metadata": {
        "id": "nSVseTsxJN1K",
        "outputId": "5593fa6b-3dc0-4d1b-a571-4baed2401764",
        "colab": {
          "base_uri": "https://localhost:8080/",
          "height": 312,
          "referenced_widgets": [
            "a822c62378f54c929f974c1751912434",
            "0e3dedadab984f4ea99fa68ff950cc07",
            "fe022f37dc5041aea864a13d19d58891",
            "414c034f0bcc4532bc3e12357c600cce",
            "4e95c2330e8743bc892778569b4b72de",
            "a7f4365773eb4d07a22252d7f0e7e20c",
            "cd28981e926046608bf51deabea45eb4",
            "3949771e7c08466e8c85639afbdbfb54",
            "e55f69637b8c46119a4df3a7cb129899",
            "4188a0b1969a4f808661d40367a7b945"
          ]
        }
      },
      "source": [
        "@interact(elev=IntSlider(min=0, max=360, step=1, value=30),\n",
        "          azim=IntSlider(min=0, max=360, step=1, value=50))\n",
        "def plot_descent(elev: int, azim: int):\n",
        "  # Descent steps plotting\n",
        "  xs = array(xi).flatten()\n",
        "  ys = array(yi).flatten()\n",
        "\n",
        "  fs = F(xs, ys).flatten()\n",
        "\n",
        "  # Meshgrid plotting\n",
        "  fig = plt.figure()\n",
        "  ax = fig.gca(projection='3d')\n",
        "  ax.view_init(elev=elev, azim=azim)\n",
        "\n",
        "  ax.plot(xs, ys, fs, lw=0.5, marker='*', color='black')\n",
        "  surf = ax.plot_surface(X, Y, F(X, Y), cmap=cmap, antialiased=True)\n",
        "  fig.colorbar(surf)\n",
        "\n",
        "  plt.show()"
      ],
      "execution_count": null,
      "outputs": [
        {
          "output_type": "display_data",
          "data": {
            "application/vnd.jupyter.widget-view+json": {
              "model_id": "a822c62378f54c929f974c1751912434",
              "version_minor": 0,
              "version_major": 2
            },
            "text/plain": [
              "interactive(children=(IntSlider(value=30, description='elev', max=360), IntSlider(value=50, description='azim'…"
            ]
          },
          "metadata": {
            "tags": []
          }
        }
      ]
    },
    {
      "cell_type": "markdown",
      "metadata": {
        "id": "V5qvxjPtrKtl"
      },
      "source": [
        "## Attribution\n",
        "\n",
        "Overview is based on research paper \"An overview of gradient descent optimization algorithms\" from [arXiv.org](https://arxiv.org/pdf/1609.04747.pdf) by [Sebastian Ruder](mailto:ruder.sebastian@gmail.com) licensed under CC BY-NC-SA 4.0."
      ]
    }
  ]
}